{
 "cells": [
  {
   "cell_type": "code",
   "execution_count": 3,
   "metadata": {},
   "outputs": [],
   "source": [
    "days = 365"
   ]
  },
  {
   "cell_type": "code",
   "execution_count": 4,
   "metadata": {},
   "outputs": [],
   "source": [
    "days_1 = 365\n",
    "days_2 = 365"
   ]
  },
  {
   "cell_type": "code",
   "execution_count": 5,
   "metadata": {},
   "outputs": [],
   "source": [
    "number_of_days = 365\n",
    "number_of_days = 366"
   ]
  },
  {
   "cell_type": "code",
   "execution_count": 6,
   "metadata": {},
   "outputs": [
    {
     "name": "stdout",
     "output_type": "stream",
     "text": [
      "hello python\n"
     ]
    }
   ],
   "source": [
    "#print\n",
    "print('hello python')"
   ]
  },
  {
   "cell_type": "code",
   "execution_count": 7,
   "metadata": {},
   "outputs": [
    {
     "name": "stdout",
     "output_type": "stream",
     "text": [
      "365\n"
     ]
    }
   ],
   "source": [
    "number_of_days = 365\n",
    "print(number_of_days)"
   ]
  },
  {
   "cell_type": "code",
   "execution_count": 9,
   "metadata": {},
   "outputs": [
    {
     "name": "stdout",
     "output_type": "stream",
     "text": [
      "China\n",
      "123\n",
      "122.5\n"
     ]
    }
   ],
   "source": [
    "str_test = \"China\"\n",
    "int_test = 123\n",
    "float_test = 122.5\n",
    "\n",
    "print(str_test)\n",
    "print(int_test)\n",
    "print(float_test)"
   ]
  },
  {
   "cell_type": "code",
   "execution_count": 10,
   "metadata": {},
   "outputs": [
    {
     "name": "stdout",
     "output_type": "stream",
     "text": [
      "<class 'str'>\n",
      "<class 'int'>\n",
      "<class 'float'>\n"
     ]
    }
   ],
   "source": [
    "print(type(str_test))\n",
    "print(type(int_test))\n",
    "print(type(float_test))"
   ]
  },
  {
   "cell_type": "code",
   "execution_count": 14,
   "metadata": {},
   "outputs": [
    {
     "name": "stdout",
     "output_type": "stream",
     "text": [
      "<class 'str'>\n",
      "<class 'int'>\n"
     ]
    }
   ],
   "source": [
    "#str类型转换为int类型\n",
    "str_eight = str(8)\n",
    "#str_eight + 10\n",
    "print(type(str_eight))\n",
    "eight = 8\n",
    "str_eight_two = str(eight)\n",
    "\n",
    "str_eight = \"8\"\n",
    "int_eight = int(str_eight)\n",
    "int_eight + 10\n",
    "print(type(int_eight))"
   ]
  },
  {
   "cell_type": "code",
   "execution_count": 15,
   "metadata": {},
   "outputs": [
    {
     "ename": "ValueError",
     "evalue": "invalid literal for int() with base 10: 'test'",
     "output_type": "error",
     "traceback": [
      "\u001b[1;31m---------------------------------------------------------------------------\u001b[0m",
      "\u001b[1;31mValueError\u001b[0m                                Traceback (most recent call last)",
      "\u001b[1;32m<ipython-input-15-ca3beb89712d>\u001b[0m in \u001b[0;36m<module>\u001b[1;34m\u001b[0m\n\u001b[0;32m      1\u001b[0m \u001b[0mstr_test\u001b[0m \u001b[1;33m=\u001b[0m \u001b[1;34m'test'\u001b[0m\u001b[1;33m\u001b[0m\u001b[1;33m\u001b[0m\u001b[0m\n\u001b[1;32m----> 2\u001b[1;33m \u001b[0mstr_to_int\u001b[0m \u001b[1;33m=\u001b[0m \u001b[0mint\u001b[0m\u001b[1;33m(\u001b[0m\u001b[0mstr_test\u001b[0m\u001b[1;33m)\u001b[0m\u001b[1;33m\u001b[0m\u001b[1;33m\u001b[0m\u001b[0m\n\u001b[0m",
      "\u001b[1;31mValueError\u001b[0m: invalid literal for int() with base 10: 'test'"
     ]
    }
   ],
   "source": [
    "#字符转换必须是能转换，否则转换不成功\n",
    "str_test = 'test'\n",
    "str_to_int = int(str_test)"
   ]
  },
  {
   "cell_type": "code",
   "execution_count": 20,
   "metadata": {},
   "outputs": [
    {
     "name": "stdout",
     "output_type": "stream",
     "text": [
      "20\n",
      "10000\n",
      "1000\n"
     ]
    }
   ],
   "source": [
    "china = 10\n",
    "united_states = 100\n",
    "china_plus_10 = china + 10\n",
    "us_times_100 = united_states * 100\n",
    "print(china_plus_10)\n",
    "print(us_times_100)\n",
    "print(china**3)"
   ]
  },
  {
   "cell_type": "code",
   "execution_count": 22,
   "metadata": {},
   "outputs": [
    {
     "name": "stdout",
     "output_type": "stream",
     "text": [
      "<class 'list'>\n",
      "['January', 'February']\n"
     ]
    }
   ],
   "source": [
    "#List 列表\n",
    "months = []\n",
    "print(type(months))\n",
    "months.append(\"January\")\n",
    "months.append(\"February\")\n",
    "print(months)"
   ]
  },
  {
   "cell_type": "code",
   "execution_count": 23,
   "metadata": {},
   "outputs": [
    {
     "name": "stdout",
     "output_type": "stream",
     "text": [
      "[1, 'January', 2, 'February']\n"
     ]
    }
   ],
   "source": [
    "#List 可以放不同类型的值\n",
    "months = []\n",
    "months.append(1)\n",
    "months.append(\"January\")\n",
    "months.append(2)\n",
    "months.append(\"February\")\n",
    "print(months)"
   ]
  },
  {
   "cell_type": "code",
   "execution_count": 25,
   "metadata": {},
   "outputs": [],
   "source": [
    "temps = [\"China\",122.5,\"India\",124.0,\"United States\",134.1]"
   ]
  },
  {
   "cell_type": "code",
   "execution_count": 26,
   "metadata": {},
   "outputs": [
    {
     "name": "stdout",
     "output_type": "stream",
     "text": [
      "['China', 'India', 'United States']\n",
      "['30.5', '25.0', '15.1']\n",
      "India\n",
      "25.0\n"
     ]
    }
   ],
   "source": [
    "countries = []\n",
    "temperatures = []\n",
    "\n",
    "countries.append(\"China\")\n",
    "countries.append(\"India\")\n",
    "countries.append(\"United States\")\n",
    "\n",
    "temperatures.append(\"30.5\")\n",
    "temperatures.append(\"25.0\")\n",
    "temperatures.append(\"15.1\")\n",
    "\n",
    "print(countries)\n",
    "print(temperatures)\n",
    "china = countries[1]\n",
    "china_temperature = temperatures[1]\n",
    "print(china)\n",
    "print(china_temperature)"
   ]
  },
  {
   "cell_type": "code",
   "execution_count": 31,
   "metadata": {},
   "outputs": [
    {
     "name": "stdout",
     "output_type": "stream",
     "text": [
      "12\n"
     ]
    }
   ],
   "source": [
    "#len的用法-----查看长度\n",
    "int_months = [1,2,3,4,5,6,7,8,9,10,11,12]\n",
    "length = len(int_months)\n",
    "print(length)"
   ]
  },
  {
   "cell_type": "code",
   "execution_count": 32,
   "metadata": {},
   "outputs": [
    {
     "name": "stdout",
     "output_type": "stream",
     "text": [
      "12\n",
      "12\n"
     ]
    }
   ],
   "source": [
    "int_months = [1,2,3,4,5,6,7,8,9,10,11,12]\n",
    "index = len(int_months) - 1\n",
    "last_value = int_months[index]\n",
    "print(last_value)\n",
    "print(int_months[-1])"
   ]
  },
  {
   "cell_type": "code",
   "execution_count": 39,
   "metadata": {},
   "outputs": [
    {
     "name": "stdout",
     "output_type": "stream",
     "text": [
      "7\n",
      "['Mar', 'Apr']\n"
     ]
    }
   ],
   "source": [
    "months = [\"Jan\",\"Feb\",\"Mar\",\"Apr\",\"May\",\"Jun\",\"Jul\"]\n",
    "two_four = months[2:4]\n",
    "print(len(months)) #打印出months列表的长度\n",
    "print(two_four)"
   ]
  },
  {
   "cell_type": "code",
   "execution_count": 37,
   "metadata": {},
   "outputs": [
    {
     "name": "stdout",
     "output_type": "stream",
     "text": [
      "['Apr', 'May', 'Jun', 'Jul']\n"
     ]
    }
   ],
   "source": [
    "three_six = months[3:]\n",
    "print(three_six)"
   ]
  },
  {
   "cell_type": "code",
   "execution_count": null,
   "metadata": {},
   "outputs": [],
   "source": []
  }
 ],
 "metadata": {
  "kernelspec": {
   "display_name": "Python 3",
   "language": "python",
   "name": "python3"
  },
  "language_info": {
   "codemirror_mode": {
    "name": "ipython",
    "version": 3
   },
   "file_extension": ".py",
   "mimetype": "text/x-python",
   "name": "python",
   "nbconvert_exporter": "python",
   "pygments_lexer": "ipython3",
   "version": "3.7.4"
  }
 },
 "nbformat": 4,
 "nbformat_minor": 2
}
